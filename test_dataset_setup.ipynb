{
 "cells": [
  {
   "cell_type": "markdown",
   "id": "1fad7bd2",
   "metadata": {},
   "source": [
    "# Testset implementation\n",
    "\n",
    "file to implement the testset on which we will evaluate the CNN"
   ]
  },
  {
   "cell_type": "code",
   "execution_count": null,
   "id": "0f98a8d9",
   "metadata": {},
   "outputs": [],
   "source": [
    "import torch\n",
    "import torchvision\n",
    "import numpy as np\n",
    "import os\n",
    "from PIL import Image"
   ]
  },
  {
   "cell_type": "code",
   "execution_count": null,
   "id": "71d6e084",
   "metadata": {},
   "outputs": [],
   "source": [
    "from utils import to_pil"
   ]
  },
  {
   "cell_type": "markdown",
   "id": "07c214e5",
   "metadata": {},
   "source": [
    "### Directory structure generation for number concatenated on the horizontal axis"
   ]
  },
  {
   "cell_type": "code",
   "execution_count": null,
   "id": "9d4344db",
   "metadata": {},
   "outputs": [],
   "source": [
    "# Specify the directory name\n",
    "directory_name = \"data/TestWMNIST\"\n",
    "\n",
    "# Create the directory\n",
    "try:\n",
    "    os.mkdir(directory_name)\n",
    "    print(f\"Directory '{directory_name}' created successfully.\")\n",
    "except FileExistsError:\n",
    "    print(f\"Directory '{directory_name}' already exists.\")\n",
    "except PermissionError:\n",
    "    print(f\"Permission denied: Unable to create '{directory_name}'.\")\n",
    "except Exception as e:\n",
    "    print(f\"An error occurred: {e}\")"
   ]
  },
  {
   "cell_type": "code",
   "execution_count": null,
   "id": "4b99a66d",
   "metadata": {},
   "outputs": [],
   "source": [
    "smallest_number = 0\n",
    "largest_number = 999\n",
    "\n",
    "for i in range(smallest_number,largest_number+1):\n",
    "    # Specify the directory name\n",
    "    directory_name = \"data/TestWMNIST/\" + str(i)\n",
    "\n",
    "    # Create class folders\n",
    "    try:\n",
    "        os.mkdir(directory_name)\n",
    "        print(f\"Directory '{directory_name}' created successfully.\")\n",
    "    except FileExistsError:\n",
    "        print(f\"Directory '{directory_name}' already exists.\")\n",
    "    except PermissionError:\n",
    "        print(f\"Permission denied: Unable to create '{directory_name}'.\")\n",
    "    except Exception as e:\n",
    "        print(f\"An error occurred: {e}\")"
   ]
  },
  {
   "cell_type": "markdown",
   "id": "12595305",
   "metadata": {},
   "source": [
    "### Horizontal concatenated number generation"
   ]
  },
  {
   "cell_type": "code",
   "execution_count": null,
   "id": "09b664cb",
   "metadata": {},
   "outputs": [],
   "source": [
    "# MNIST dataset from which the digit will be extracted\n",
    "ds = torchvision.datasets.MNIST(\n",
    "    root='./data',\n",
    "    train=False,\n",
    "    transform=None,\n",
    "    download=True\n",
    ")\n",
    "\n",
    "# saving the indexes at which each class appear\n",
    "# ex: for i = 0, we create in label_indices[0] a list of all the indexes that represent class 0 in MNIST dataset\n",
    "label_indices = { i:torch.where(ds.targets == i)[0] for i in range(10) }\n",
    "save_dir = \"data/TestWMNIST\"\n",
    "\n",
    "# function to get 1 generated number (1,2 or 3 digit number depending on idx)\n",
    "# j represent the counter inside a class\n",
    "def get_1_channel_number(idx, j):\n",
    "    digits = list(str(idx))\n",
    "    digit_images = []\n",
    "    for d in digits:\n",
    "        indices = label_indices[int(d)]\n",
    "        chosen_idx = indices[torch.randint(len(indices), (1,)).item()]\n",
    "        img = ds.data[chosen_idx]\n",
    "        digit_images.append(img)\n",
    "    concat_img = torch.cat(digit_images, dim=1)\n",
    "    img = to_pil(concat_img)\n",
    "    img.save(os.path.join(save_dir + \"/\" + str(i), str(j) + \".png\"))\n",
    "    \n",
    "for i in range(0, 1000):\n",
    "    if i<10:\n",
    "        for j in range(0, 1500):\n",
    "            get_1_channel_number(i, j)\n",
    "    if i<100:\n",
    "        for j in range(0, 167):\n",
    "            get_1_channel_number(i, j)\n",
    "    else:\n",
    "        for j in range(0, 17):\n",
    "            get_1_channel_number(i, j)"
   ]
  },
  {
   "cell_type": "markdown",
   "id": "dc7380b0",
   "metadata": {},
   "source": [
    "### Directory structure generation for number concatenated on the channel axis"
   ]
  },
  {
   "cell_type": "code",
   "execution_count": null,
   "id": "8d3013c7",
   "metadata": {},
   "outputs": [],
   "source": [
    "# Specify the directory name\n",
    "directory_name = \"data/TestCMNIST\"\n",
    "\n",
    "# Create the directory\n",
    "try:\n",
    "    os.mkdir(directory_name)\n",
    "    print(f\"Directory '{directory_name}' created successfully.\")\n",
    "except FileExistsError:\n",
    "    print(f\"Directory '{directory_name}' already exists.\")\n",
    "except PermissionError:\n",
    "    print(f\"Permission denied: Unable to create '{directory_name}'.\")\n",
    "except Exception as e:\n",
    "    print(f\"An error occurred: {e}\")"
   ]
  },
  {
   "cell_type": "code",
   "execution_count": null,
   "id": "a0d3b1f1",
   "metadata": {},
   "outputs": [],
   "source": [
    "smallest_number = 0\n",
    "largest_number = 999\n",
    "\n",
    "for i in range(smallest_number,largest_number+1):\n",
    "    # Specify the directory name\n",
    "    directory_name = \"data/TestCMNIST/\" + str(i)\n",
    "\n",
    "    # Create class folders\n",
    "    try:\n",
    "        os.mkdir(directory_name)\n",
    "        print(f\"Directory '{directory_name}' created successfully.\")\n",
    "    except FileExistsError:\n",
    "        print(f\"Directory '{directory_name}' already exists.\")\n",
    "    except PermissionError:\n",
    "        print(f\"Permission denied: Unable to create '{directory_name}'.\")\n",
    "    except Exception as e:\n",
    "        print(f\"An error occurred: {e}\")"
   ]
  },
  {
   "cell_type": "markdown",
   "id": "ef3eff94",
   "metadata": {},
   "source": [
    "### Channel concatenated number generation"
   ]
  },
  {
   "cell_type": "code",
   "execution_count": null,
   "id": "1c9a99b1",
   "metadata": {},
   "outputs": [],
   "source": [
    "# MNIST dataset from which the digit will be extracted\n",
    "ds = torchvision.datasets.MNIST(\n",
    "    root='./data',\n",
    "    train=False,\n",
    "    transform=None,\n",
    "    download=True\n",
    ")\n",
    "\n",
    "# maximum number length in digits\n",
    "max_digits = 3\n",
    "\n",
    "# saving the indexes at which each class appear\n",
    "# ex: for i = 0, we create in label_indices[0] a list of all the indexes that represent class 0 in MNIST dataset\n",
    "label_indices = { i:torch.where(ds.targets == i)[0] for i in range(10) }\n",
    "save_dir = \"data/TestCMNIST\"\n",
    "\n",
    "# function to get 1 generated number (1,2 or 3 digit number depending on idx)\n",
    "# j represent the counter inside a class\n",
    "def get_3_channel_number(idx, j):\n",
    "    digits = list(str(idx))\n",
    "    digit_images = []\n",
    "    for d in digits:\n",
    "        indices = label_indices[int(d)]\n",
    "        chosen_idx = indices[torch.randint(len(indices), (1,)).item()]\n",
    "        img = ds.data[chosen_idx]\n",
    "        img = img.unsqueeze(0)\n",
    "        digit_images.append(img)\n",
    "    # this second for is needed to always return numbers with 3 channels, \n",
    "    # otherwise 1 and 2 digits numbers will have less than 3 channels\n",
    "    for d in range(len(digits), max_digits):\n",
    "        img = torch.zeros((28, 28))\n",
    "        img = img.unsqueeze(0)\n",
    "        digit_images.append(img)\n",
    "    concat_img = torch.cat(digit_images, dim=0)\n",
    "    img = to_pil(concat_img)\n",
    "    img.save(os.path.join(save_dir + \"/\" + str(i), str(j) + \".png\"))\n",
    "    \n",
    "\n",
    "for i in range(0, 1000):\n",
    "    if i < 10:\n",
    "        for j in range(0, 1500):\n",
    "            get_3_channel_number(i, j)\n",
    "    elif i < 100:\n",
    "        for j in range(0, 167):\n",
    "            get_3_channel_number(i, j)\n",
    "    else:\n",
    "        for j in range(0, 17):\n",
    "            get_3_channel_number(i, j)"
   ]
  },
  {
   "cell_type": "markdown",
   "id": "8e140808",
   "metadata": {},
   "source": [
    "### Computing mean and variance of the generated dataset (both horizontal and channel concatenated) <br>\n",
    "this is optional and since the training is performed using the usual MNIST mean and std as normalization parameters it is better to use them also for the testing"
   ]
  },
  {
   "cell_type": "code",
   "execution_count": null,
   "id": "658bc4d3",
   "metadata": {},
   "outputs": [],
   "source": [
    "# path to the dataset\n",
    "dataset_path = \"./data/TestWMNIST\"\n",
    "\n",
    "to_tensor = torchvision.transforms.ToTensor()\n",
    "\n",
    "# list that will contains all the pixels value of one image\n",
    "pixels = []\n",
    "\n",
    "for root, _, files in os.walk(dataset_path):\n",
    "    for file in files:\n",
    "        if file.lower().endswith((\".png\")):\n",
    "            img_path = os.path.join(root, file)\n",
    "            img = Image.open(img_path).convert(\"L\")  # \"L\" for grayscale\n",
    "            img = to_tensor(img)\n",
    "            pixels.append(img.flatten())\n",
    "\n",
    "# join all images pixels value in the same array\n",
    "all_pixels = np.concatenate(pixels)\n",
    "\n",
    "# computing mean and standard deviation\n",
    "mean = np.mean(all_pixels, axis=0)\n",
    "std = np.std(all_pixels, axis=0)\n",
    "\n",
    "print(\"Mean:\", mean)\n",
    "print(\"Standard deviation:\", std)\n"
   ]
  },
  {
   "cell_type": "code",
   "execution_count": null,
   "id": "c9cb8f31",
   "metadata": {},
   "outputs": [],
   "source": [
    "# path to the dataset\n",
    "dataset_path = \"./data/TestCMNIST\"\n",
    "\n",
    "to_tensor = torchvision.transforms.ToTensor()\n",
    "\n",
    "# list that will contains all the pixels value of one image\n",
    "pixels = []\n",
    "\n",
    "for root, _, files in os.walk(dataset_path):\n",
    "    for file in files:\n",
    "        if file.lower().endswith((\".png\")):\n",
    "            img_path = os.path.join(root, file)\n",
    "            img = Image.open(img_path)\n",
    "            img = to_tensor(img)\n",
    "            pixels.append(img.flatten())\n",
    "\n",
    "# join all images pixels value in the same array\n",
    "all_pixels = np.concatenate(pixels)\n",
    "\n",
    "# computing mean and standard deviation\n",
    "meanD = np.mean(all_pixels, axis=0)\n",
    "stdD = np.std(all_pixels, axis=0)\n",
    "\n",
    "print(\"Mean:\", meanD)\n",
    "print(\"Standard deviation:\", stdD)"
   ]
  }
 ],
 "metadata": {
  "kernelspec": {
   "display_name": "Python 3",
   "language": "python",
   "name": "python3"
  },
  "language_info": {
   "codemirror_mode": {
    "name": "ipython",
    "version": 3
   },
   "file_extension": ".py",
   "mimetype": "text/x-python",
   "name": "python",
   "nbconvert_exporter": "python",
   "pygments_lexer": "ipython3",
   "version": "3.13.7"
  }
 },
 "nbformat": 4,
 "nbformat_minor": 5
}
