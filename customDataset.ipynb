{
 "cells": [
  {
   "cell_type": "markdown",
   "id": "1fad7bd2",
   "metadata": {},
   "source": [
    "# Testset implementation\n",
    "\n",
    "file to implement the testset on which we will evaluate the CNN"
   ]
  },
  {
   "cell_type": "code",
   "execution_count": null,
   "id": "0f98a8d9",
   "metadata": {},
   "outputs": [],
   "source": [
    "import torch\n",
    "import torchvision\n",
    "import torchvision.transforms as transforms\n",
    "from matplotlib import pyplot as plt\n",
    "from torch.utils.data import Dataset\n",
    "import random\n",
    "from PIL import Image\n",
    "import numpy as np"
   ]
  },
  {
   "cell_type": "code",
   "execution_count": 17,
   "id": "71d6e084",
   "metadata": {},
   "outputs": [],
   "source": [
    "from utils_datasets import to_pil"
   ]
  },
  {
   "cell_type": "markdown",
   "id": "07c214e5",
   "metadata": {},
   "source": [
    "Directory structure generation for number concatenated on the horizontal axis"
   ]
  },
  {
   "cell_type": "code",
   "execution_count": null,
   "id": "9d4344db",
   "metadata": {},
   "outputs": [],
   "source": [
    "import os\n",
    "\n",
    "# Specify the directory name\n",
    "directory_name = \"data/TestWMNIST\"\n",
    "\n",
    "# Create the directory\n",
    "try:\n",
    "    os.mkdir(directory_name)\n",
    "    print(f\"Directory '{directory_name}' created successfully.\")\n",
    "except FileExistsError:\n",
    "    print(f\"Directory '{directory_name}' already exists.\")\n",
    "except PermissionError:\n",
    "    print(f\"Permission denied: Unable to create '{directory_name}'.\")\n",
    "except Exception as e:\n",
    "    print(f\"An error occurred: {e}\")"
   ]
  },
  {
   "cell_type": "code",
   "execution_count": null,
   "id": "4b99a66d",
   "metadata": {},
   "outputs": [],
   "source": [
    "smallest_number = 0\n",
    "largest_number = 999\n",
    "\n",
    "for i in range(0,999+1):\n",
    "    # Specify the directory name\n",
    "    directory_name = \"data/TestWMNIST/\" + str(i)\n",
    "\n",
    "    # Create the directory\n",
    "    try:\n",
    "        os.mkdir(directory_name)\n",
    "        print(f\"Directory '{directory_name}' created successfully.\")\n",
    "    except FileExistsError:\n",
    "        print(f\"Directory '{directory_name}' already exists.\")\n",
    "    except PermissionError:\n",
    "        print(f\"Permission denied: Unable to create '{directory_name}'.\")\n",
    "    except Exception as e:\n",
    "        print(f\"An error occurred: {e}\")"
   ]
  },
  {
   "cell_type": "markdown",
   "id": "12595305",
   "metadata": {},
   "source": [
    "Horizontal concatenated number generation"
   ]
  },
  {
   "cell_type": "code",
   "execution_count": null,
   "id": "09b664cb",
   "metadata": {},
   "outputs": [],
   "source": [
    "from PIL import Image\n",
    "\n",
    "ds = torchvision.datasets.MNIST(\n",
    "    root='./data',\n",
    "    train=False,\n",
    "    transform=None,\n",
    "    download=True\n",
    ")\n",
    "\n",
    "label_indices = { i:torch.where(ds.targets == i)[0] for i in range(10) }\n",
    "save_dir = \"data/TestWMNIST\"\n",
    "\n",
    "def get_1_channel_number(idx, j):\n",
    "    digits = list(str(idx))\n",
    "    digit_images = []\n",
    "    for d in digits:\n",
    "        indices = label_indices[int(d)]\n",
    "        chosen_idx = indices[torch.randint(len(indices), (1,)).item()]\n",
    "        img = ds.data[chosen_idx]\n",
    "        digit_images.append(img)\n",
    "    concat_img = torch.cat(digit_images, dim=1)\n",
    "    img = to_pil(concat_img)\n",
    "    img.save(os.path.join(save_dir + \"/\" + str(i), str(j) + \".png\"))\n",
    "    \n",
    "for i in range(0, 1000):\n",
    "    if i<10:\n",
    "        for j in range(0, 1500):\n",
    "            get_1_channel_number(i, j)\n",
    "    if i<100:\n",
    "        for j in range(0, 167):\n",
    "            get_1_channel_number(i, j)\n",
    "    else:\n",
    "        for j in range(0, 17):\n",
    "            get_1_channel_number(i, j)"
   ]
  },
  {
   "cell_type": "markdown",
   "id": "dc7380b0",
   "metadata": {},
   "source": [
    "Directory structure generation for number concatenated on the channel axis"
   ]
  },
  {
   "cell_type": "code",
   "execution_count": null,
   "id": "8d3013c7",
   "metadata": {},
   "outputs": [],
   "source": [
    "import os\n",
    "\n",
    "# Specify the directory name\n",
    "directory_name = \"data/TestDMNIST\"\n",
    "\n",
    "# Create the directory\n",
    "try:\n",
    "    os.mkdir(directory_name)\n",
    "    print(f\"Directory '{directory_name}' created successfully.\")\n",
    "except FileExistsError:\n",
    "    print(f\"Directory '{directory_name}' already exists.\")\n",
    "except PermissionError:\n",
    "    print(f\"Permission denied: Unable to create '{directory_name}'.\")\n",
    "except Exception as e:\n",
    "    print(f\"An error occurred: {e}\")"
   ]
  },
  {
   "cell_type": "code",
   "execution_count": null,
   "id": "a0d3b1f1",
   "metadata": {},
   "outputs": [],
   "source": [
    "smallest_number = 0\n",
    "largest_number = 999\n",
    "\n",
    "for i in range(0,999+1):\n",
    "    # Specify the directory name\n",
    "    directory_name = \"data/TestDMNIST/\" + str(i)\n",
    "\n",
    "    # Create the directory\n",
    "    try:\n",
    "        os.mkdir(directory_name)\n",
    "        print(f\"Directory '{directory_name}' created successfully.\")\n",
    "    except FileExistsError:\n",
    "        print(f\"Directory '{directory_name}' already exists.\")\n",
    "    except PermissionError:\n",
    "        print(f\"Permission denied: Unable to create '{directory_name}'.\")\n",
    "    except Exception as e:\n",
    "        print(f\"An error occurred: {e}\")"
   ]
  },
  {
   "cell_type": "markdown",
   "id": "ef3eff94",
   "metadata": {},
   "source": [
    "Channel concatenated number generation"
   ]
  },
  {
   "cell_type": "code",
   "execution_count": null,
   "id": "1c9a99b1",
   "metadata": {},
   "outputs": [],
   "source": [
    "from PIL import Image\n",
    "\n",
    "ds = torchvision.datasets.MNIST(\n",
    "    root='./data',\n",
    "    train=False,\n",
    "    transform=None,\n",
    "    download=True\n",
    ")\n",
    "\n",
    "max_digits = 3\n",
    "\n",
    "label_indices = { i:torch.where(ds.targets == i)[0] for i in range(10) }\n",
    "save_dir = \"data/TestDMNIST\"\n",
    "\n",
    "def get_3_channel_number(idx, j):\n",
    "    digits = list(str(idx))\n",
    "    digit_images = []\n",
    "    for d in digits:\n",
    "        indices = label_indices[int(d)]\n",
    "        chosen_idx = indices[torch.randint(len(indices), (1,)).item()]\n",
    "        img = ds.data[chosen_idx]\n",
    "        img = img.unsqueeze(0)\n",
    "        digit_images.append(img)\n",
    "    for d in range(len(digits), max_digits):\n",
    "        img = torch.zeros((28, 28))\n",
    "        img = img.unsqueeze(0)\n",
    "        digit_images.append(img)\n",
    "    concat_img = torch.cat(digit_images, dim=0)\n",
    "    img = to_pil(concat_img)\n",
    "    img.save(os.path.join(save_dir + \"/\" + str(i), str(j) + \".png\"))\n",
    "    \n",
    "\n",
    "for i in range(0, 1000):\n",
    "    if i < 10:\n",
    "        for j in range(0, 1500):\n",
    "            get_3_channel_number(i, j)\n",
    "    elif i < 100:\n",
    "        for j in range(0, 167):\n",
    "            get_3_channel_number(i, j)\n",
    "    else:\n",
    "        for j in range(0, 17):\n",
    "            get_3_channel_number(i, j)"
   ]
  },
  {
   "cell_type": "markdown",
   "id": "8e140808",
   "metadata": {},
   "source": [
    "Computing mean and variance of the generated dataset (both horizontal and channel concatenated)"
   ]
  },
  {
   "cell_type": "code",
   "execution_count": null,
   "id": "658bc4d3",
   "metadata": {},
   "outputs": [],
   "source": [
    "# path to the dataset\n",
    "dataset_path = \"./data/TestWMNIST\"\n",
    "\n",
    "to_tensor = torchvision.transforms.ToTensor()\n",
    "\n",
    "pixels = []\n",
    "i = 0\n",
    "\n",
    "for root, _, files in os.walk(dataset_path):\n",
    "    for file in files:\n",
    "        print(i)\n",
    "        i += 1\n",
    "        if file.lower().endswith((\".png\")):\n",
    "            img_path = os.path.join(root, file)\n",
    "            img = Image.open(img_path).convert(\"L\")  # \"L\" per grayscale\n",
    "            img = to_tensor(img)\n",
    "            arr = np.array(img, dtype=np.float32)\n",
    "            pixels.append(arr.flatten())\n",
    "\n",
    "# join all images in the same array\n",
    "all_pixels = np.concatenate(pixels)\n",
    "\n",
    "# computing mean and variance\n",
    "mean = np.mean(all_pixels, axis=0)\n",
    "std = np.var(all_pixels, axis=0)\n",
    "\n",
    "print(\"Mean:\", mean)\n",
    "print(\"Variance:\", std)\n"
   ]
  },
  {
   "cell_type": "code",
   "execution_count": null,
   "id": "c9cb8f31",
   "metadata": {},
   "outputs": [],
   "source": [
    "import os\n",
    "import numpy as np\n",
    "from PIL import Image\n",
    "\n",
    "# path to the dataset\n",
    "dataset_path = \"./data/TestDMNIST\"\n",
    "\n",
    "to_tensor = torchvision.transforms.ToTensor()\n",
    "\n",
    "pixels = []\n",
    "i = 0\n",
    "\n",
    "for root, _, files in os.walk(dataset_path):\n",
    "    for file in files:\n",
    "        print(i)\n",
    "        i += 1\n",
    "        if file.lower().endswith((\".png\")):\n",
    "            img_path = os.path.join(root, file)\n",
    "            img = Image.open(img_path)\n",
    "            img = to_tensor(img)\n",
    "            arr = np.array(img, dtype=np.float32)\n",
    "            pixels.append(arr.flatten())\n",
    "\n",
    "# join all images in the same array\n",
    "all_pixels = np.concatenate(pixels)\n",
    "\n",
    "# computing mean and variance\n",
    "meanD = np.mean(all_pixels, axis=0)\n",
    "stdD = np.var(all_pixels, axis=0)\n",
    "\n",
    "print(\"Mean:\", meanD)\n",
    "print(\"Variance:\", stdD)\n"
   ]
  }
 ],
 "metadata": {
  "kernelspec": {
   "display_name": "Python 3",
   "language": "python",
   "name": "python3"
  },
  "language_info": {
   "codemirror_mode": {
    "name": "ipython",
    "version": 3
   },
   "file_extension": ".py",
   "mimetype": "text/x-python",
   "name": "python",
   "nbconvert_exporter": "python",
   "pygments_lexer": "ipython3",
   "version": "3.13.7"
  }
 },
 "nbformat": 4,
 "nbformat_minor": 5
}
