{
 "cells": [
  {
   "cell_type": "markdown",
   "id": "1fad7bd2",
   "metadata": {},
   "source": [
    "# Custom dataset\n",
    "\n",
    "Test class to create a custom MNIST dataset for  generating number from 0 to 999 in a single image"
   ]
  },
  {
   "cell_type": "markdown",
   "id": "214379b7",
   "metadata": {},
   "source": [
    "# Spatial dimension concat\n",
    "\n",
    "Here i will create a single image by concatenating multiple single digit images on the width dimension\n",
    "<br> (probably this will generate image of different size due to the fact that number from 0 to 9 are shorter than number from 10 to 99 and so on)"
   ]
  },
  {
   "cell_type": "code",
   "execution_count": 211,
   "id": "0f98a8d9",
   "metadata": {},
   "outputs": [],
   "source": [
    "import torch\n",
    "import torchvision\n",
    "import torchvision.transforms as transforms\n",
    "from matplotlib import pyplot as plt\n",
    "from torch.utils.data import Dataset\n",
    "#import numpy as np"
   ]
  },
  {
   "cell_type": "code",
   "execution_count": null,
   "id": "91a3fa80",
   "metadata": {},
   "outputs": [],
   "source": [
    "mnist_mean = 0.1307\n",
    "mnist_std = 0.3081\n",
    "\n",
    "transform = transforms.Compose(\n",
    "    [transforms.ToTensor(),\n",
    "    transforms.Normalize(mnist_mean, mnist_std)]\n",
    ")\n",
    "\n",
    "transform = transforms.Compose(\n",
    "    [transforms.ConvertImageDtype(torch.float32),\n",
    "    transforms.Normalize(mnist_mean, mnist_std)]\n",
    ")\n",
    "\n",
    "to_pil = transforms.ToPILImage()\n",
    "\n",
    "def denormalize(img):\n",
    "    img = img*mnist_std\n",
    "    return img + mnist_mean"
   ]
  },
  {
   "cell_type": "code",
   "execution_count": 213,
   "id": "d46bb640",
   "metadata": {},
   "outputs": [],
   "source": [
    "batch_size_train = 64\n",
    "batch_size_test = 100\n",
    "\n",
    "train_dataset = torchvision.datasets.MNIST(\n",
    "    root='./data',\n",
    "    train=True,\n",
    "    transform=transform,\n",
    "    download=True\n",
    ")\n",
    "\n",
    "test = torchvision.datasets.CIFAR10(\n",
    "    root='./data',\n",
    "    train=True,\n",
    "    transform=transform,\n",
    "    download=True\n",
    ")\n",
    "\n",
    "train_loader = torch.utils.data.DataLoader(\n",
    "    train_dataset,\n",
    "    batch_size=batch_size_train,\n",
    "    shuffle=True\n",
    ")\n",
    "\n",
    "test_dataset = torchvision.datasets.MNIST(\n",
    "    root='./data',\n",
    "    train=False,\n",
    "    transform=transform,\n",
    "    download=True\n",
    ")\n",
    "\n",
    "test_loader = torch.utils.data.DataLoader(\n",
    "    test_dataset,\n",
    "    batch_size=batch_size_test,\n",
    "    shuffle=False\n",
    ")"
   ]
  },
  {
   "cell_type": "code",
   "execution_count": 214,
   "id": "e8260a02",
   "metadata": {},
   "outputs": [
    {
     "name": "stdout",
     "output_type": "stream",
     "text": [
      "train_dataset len: 60000, train_loader len: 938\n",
      "test_dataset len: 10000, test_loader len: 100\n"
     ]
    }
   ],
   "source": [
    "print(f'train_dataset len: {len(train_dataset)}, train_loader len: {len(train_loader)}')\n",
    "print(f'test_dataset len: {len(test_dataset)}, test_loader len: {len(test_loader)}')"
   ]
  },
  {
   "cell_type": "code",
   "execution_count": 226,
   "id": "9cf1d3fc",
   "metadata": {},
   "outputs": [
    {
     "name": "stdout",
     "output_type": "stream",
     "text": [
      "torch.Size([64, 1, 28, 28])\n",
      "tensor(7)\n"
     ]
    },
    {
     "data": {
      "text/plain": [
       "(np.float64(-0.5), np.float64(27.5), np.float64(27.5), np.float64(-0.5))"
      ]
     },
     "execution_count": 226,
     "metadata": {},
     "output_type": "execute_result"
    },
    {
     "data": {
      "image/png": "[encoded data removed]",
      "text/plain": [
       "<Figure size 640x480 with 1 Axes>"
      ]
     },
     "metadata": {},
     "output_type": "display_data"
    }
   ],
   "source": [
    "image, label = next(iter(train_loader))\n",
    "print(image.shape)\n",
    "print(label[0])\n",
    "plt.imshow(to_pil(denormalize(image[0])))\n",
    "plt.axis('off')"
   ]
  },
  {
   "cell_type": "code",
   "execution_count": 405,
   "id": "fd8e550b",
   "metadata": {},
   "outputs": [],
   "source": [
    "import random\n",
    "from PIL import Image\n",
    "\n",
    "class DynamicWMNIST(torchvision.datasets.MNIST):\n",
    "    def __init__(self, root=\"./data\", train=True, min_digits=1, max_digits=3, dataset_size=60000, transform=None, download=True):\n",
    "        super().__init__(root=root, train=train, transform=transform, download=download)\n",
    "\n",
    "        self.min_digits = min_digits\n",
    "        self.max_digits = max_digits\n",
    "        self.dataset_size = dataset_size\n",
    "\n",
    "        self.label_to_indices = {\n",
    "            i: torch.where(self.targets == i)[0] for i in range(10)\n",
    "        }\n",
    "\n",
    "    def __len__(self):\n",
    "        return self.dataset_size\n",
    "\n",
    "    def __getitem__(self, idx):\n",
    "        n_digits = random.randint(self.min_digits,self.max_digits)\n",
    "        number = random.randint(0 if n_digits == 1 else 10**(n_digits-1), 10**n_digits - 1)\n",
    "        digits = list(str(number))\n",
    "\n",
    "        digit_images = []\n",
    "        for d in digits:\n",
    "            label = int(d)\n",
    "            indices = self.label_to_indices[label]\n",
    "            chosen_idx = indices[torch.randint(len(indices), (1,)).item()]\n",
    "            img = self.data[chosen_idx]\n",
    "            img = img.unsqueeze(0)\n",
    "            digit_images.append(img)\n",
    "        concat_img = torch.cat(digit_images, dim=2)\n",
    "\n",
    "        if transform:\n",
    "            concat_img = transform(concat_img)\n",
    "\n",
    "        return concat_img, number, n_digits\n"
   ]
  },
  {
   "cell_type": "code",
   "execution_count": 438,
   "id": "f8a7be92",
   "metadata": {},
   "outputs": [],
   "source": [
    "import random\n",
    "from PIL import Image\n",
    "\n",
    "class DynamicDMNIST(torchvision.datasets.MNIST):\n",
    "    def __init__(self, root=\"./data\", train=True, min_digits=1, max_digits=3, dataset_size=60000, transform=None, download=True):\n",
    "        super().__init__(root=root, train=train, transform=transform, download=download)\n",
    "\n",
    "        self.min_digits = min_digits\n",
    "        self.max_digits = max_digits\n",
    "        self.dataset_size = dataset_size\n",
    "\n",
    "        self.label_to_indices = {\n",
    "            i: torch.where(self.targets == i)[0] for i in range(10)\n",
    "        }\n",
    "\n",
    "    def __len__(self):\n",
    "        return self.dataset_size\n",
    "\n",
    "    def __getitem__(self, idx):\n",
    "        n_digits = random.randint(self.min_digits,self.max_digits)\n",
    "        number = random.randint(0 if n_digits == 1 else 10**(n_digits-1), 10**n_digits - 1)\n",
    "        digits = list(str(number))\n",
    "\n",
    "        digit_images = []\n",
    "        for d in digits:\n",
    "            label = int(d)\n",
    "            indices = self.label_to_indices[label]\n",
    "            chosen_idx = indices[torch.randint(len(indices), (1,)).item()]\n",
    "            img = self.data[chosen_idx]\n",
    "            img = img.unsqueeze(0)\n",
    "            digit_images.append(img)\n",
    "        concat_img = torch.cat(digit_images, dim=0)\n",
    "\n",
    "        if transform:\n",
    "            concat_img = transform(concat_img)\n",
    "\n",
    "        return concat_img, number, n_digits\n"
   ]
  },
  {
   "cell_type": "code",
   "execution_count": 432,
   "id": "c06e7d4d",
   "metadata": {},
   "outputs": [],
   "source": [
    "def my_collate(batch):\n",
    "    imgs, labels, n_digits = zip(*batch)\n",
    "    return list(imgs), list(labels), list(n_digits)"
   ]
  },
  {
   "cell_type": "code",
   "execution_count": 419,
   "id": "7b813d96",
   "metadata": {},
   "outputs": [],
   "source": [
    "ds = DynamicWMNIST(transform=transform)\n",
    "dl = torch.utils.data.DataLoader(\n",
    "    ds,\n",
    "    batch_size=batch_size_train,\n",
    "    shuffle=True,\n",
    "    collate_fn=my_collate\n",
    ")"
   ]
  },
  {
   "cell_type": "code",
   "execution_count": 429,
   "id": "a2c3a64d",
   "metadata": {},
   "outputs": [
    {
     "name": "stdout",
     "output_type": "stream",
     "text": [
      "100\n",
      "torch.Size([1, 28, 56])\n",
      "2\n",
      "29\n",
      "200\n",
      "torch.Size([1, 28, 56])\n",
      "2\n",
      "93\n",
      "300\n",
      "torch.Size([1, 28, 28])\n",
      "1\n",
      "0\n",
      "400\n",
      "torch.Size([1, 28, 56])\n",
      "2\n",
      "97\n",
      "500\n",
      "torch.Size([1, 28, 28])\n",
      "1\n",
      "5\n",
      "600\n",
      "torch.Size([1, 28, 84])\n",
      "3\n",
      "930\n",
      "700\n",
      "torch.Size([1, 28, 84])\n",
      "3\n",
      "481\n",
      "800\n",
      "torch.Size([1, 28, 28])\n",
      "1\n",
      "0\n",
      "900\n",
      "torch.Size([1, 28, 56])\n",
      "2\n",
      "79\n",
      "938\n"
     ]
    },
    {
     "data": {
      "image/png": "[encoded data removed]",
      "text/plain": [
       "<Figure size 300x300 with 9 Axes>"
      ]
     },
     "metadata": {},
     "output_type": "display_data"
    }
   ],
   "source": [
    "counter = 0\n",
    "figure = plt.figure(figsize=(3, 3))\n",
    "for i, data in enumerate(dl):\n",
    "    counter += 1\n",
    "    image, number, n_digits = data\n",
    "    if counter%100 == 0:\n",
    "        print(counter)\n",
    "\n",
    "    #print(counter)\n",
    "    #plt.figure(figsize=(3, 3))\n",
    "        figure.add_subplot(3, 3, i//100+1)\n",
    "        plt.imshow(to_pil(denormalize(image[0])))\n",
    "        print(image[0].shape)\n",
    "        print(n_digits[0])\n",
    "        print(number[0])\n",
    "print(counter)"
   ]
  },
  {
   "cell_type": "code",
   "execution_count": 440,
   "id": "c2ec61dd",
   "metadata": {},
   "outputs": [],
   "source": [
    "ds = DynamicDMNIST(transform=transform)\n",
    "dl = torch.utils.data.DataLoader(\n",
    "    ds,\n",
    "    batch_size=batch_size_train,\n",
    "    shuffle=True,\n",
    "    collate_fn=my_collate\n",
    ")"
   ]
  },
  {
   "cell_type": "code",
   "execution_count": 444,
   "id": "540a6ecd",
   "metadata": {},
   "outputs": [
    {
     "name": "stdout",
     "output_type": "stream",
     "text": [
      "100\n",
      "torch.Size([2, 28, 28])\n",
      "2\n",
      "59\n",
      "200\n",
      "torch.Size([1, 28, 28])\n",
      "1\n",
      "9\n",
      "300\n",
      "torch.Size([3, 28, 28])\n",
      "3\n",
      "888\n",
      "400\n",
      "torch.Size([2, 28, 28])\n",
      "2\n",
      "26\n",
      "500\n",
      "torch.Size([1, 28, 28])\n",
      "1\n",
      "6\n",
      "600\n",
      "torch.Size([1, 28, 28])\n",
      "1\n",
      "5\n",
      "700\n",
      "torch.Size([2, 28, 28])\n",
      "2\n",
      "79\n",
      "800\n",
      "torch.Size([3, 28, 28])\n",
      "3\n",
      "975\n",
      "900\n",
      "torch.Size([2, 28, 28])\n",
      "2\n",
      "43\n",
      "938\n"
     ]
    },
    {
     "data": {
      "image/png": "[encoded data removed]",
      "text/plain": [
       "<Figure size 300x300 with 9 Axes>"
      ]
     },
     "metadata": {},
     "output_type": "display_data"
    }
   ],
   "source": [
    "counter = 0\n",
    "figure = plt.figure(figsize=(3, 3))\n",
    "for i, data in enumerate(dl):\n",
    "    counter += 1\n",
    "    image, number, n_digits = data\n",
    "    if counter%100 == 0:\n",
    "        print(counter)\n",
    "\n",
    "    #print(counter)\n",
    "    #plt.figure(figsize=(3, 3))\n",
    "        figure.add_subplot(3, 3, i//100+1)\n",
    "        plt.imshow(to_pil(denormalize(image[0].squeeze())),cmap='gray')\n",
    "        print(image[0].shape)\n",
    "        print(n_digits[0])\n",
    "        print(number[0])\n",
    "print(counter)"
   ]
  },
  {
   "cell_type": "markdown",
   "id": "31747084",
   "metadata": {},
   "source": [
    "# Testset\n",
    "adesso iniziero a creare il testset"
   ]
  },
  {
   "cell_type": "code",
   "execution_count": null,
   "id": "9d4344db",
   "metadata": {},
   "outputs": [],
   "source": [
    "import os\n"
   ]
  },
  {
   "cell_type": "code",
   "execution_count": null,
   "id": "217eed38",
   "metadata": {},
   "outputs": [],
   "source": [
    "#scrivi due for annidati per generare il dataset da 10 a 99 e per quello da 100 a 999 fai tre for annidati \n",
    "#così potrai utlizzare la funzione che ti ha consigliato chatgpt per estrarre i valori dal dataset originale MNIST\n",
    "#per generare le immagini concatenate"
   ]
  }
 ],
 "metadata": {
  "kernelspec": {
   "display_name": "Python 3",
   "language": "python",
   "name": "python3"
  },
  "language_info": {
   "codemirror_mode": {
    "name": "ipython",
    "version": 3
   },
   "file_extension": ".py",
   "mimetype": "text/x-python",
   "name": "python",
   "nbconvert_exporter": "python",
   "pygments_lexer": "ipython3",
   "version": "3.13.7"
  }
 },
 "nbformat": 4,
 "nbformat_minor": 5
}
